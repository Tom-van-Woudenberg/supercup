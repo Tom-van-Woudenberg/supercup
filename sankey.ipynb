{
 "cells": [
  {
   "cell_type": "markdown",
   "id": "7b0663b0",
   "metadata": {},
   "source": [
    "# SuperCup Rowing Competition Analysis\n",
    "\n",
    "This notebook analyzes crew progression through the SuperCup rowing competition stages using data from `VSc2x.xlsx`.\n",
    "\n",
    "## Overview\n",
    "- Import and process race data with slag information\n",
    "- Track crew progression from Voorwedstrijden to Finales\n",
    "- Visualize crew flows using Sankey diagrams\n",
    "- Analyze patterns by veld categories"
   ]
  },
  {
   "cell_type": "code",
   "execution_count": 26,
   "id": "4f2d7730",
   "metadata": {},
   "outputs": [
    {
     "name": "stdout",
     "output_type": "stream",
     "text": [
      "All modules imported and reloaded successfully!\n",
      "Ready to create cumulative positioned Sankey diagrams!\n"
     ]
    }
   ],
   "source": [
    "# Import required libraries and our custom modules\n",
    "import pandas as pd\n",
    "import numpy as np\n",
    "import importlib\n",
    "\n",
    "# Import our custom modules\n",
    "import data_processing\n",
    "import crew_tracking\n",
    "import visualization\n",
    "\n",
    "# Reload modules to get latest changes\n",
    "importlib.reload(data_processing)\n",
    "importlib.reload(crew_tracking)\n",
    "importlib.reload(visualization)\n",
    "\n",
    "from data_processing import load_and_process_excel\n",
    "from crew_tracking import track_crew_progression_with_slag, analyze_crew_progression\n",
    "from visualization import create_four_column_cumulative_sankey\n",
    "\n",
    "print(\"All modules imported and reloaded successfully!\")\n",
    "print(\"Ready to create cumulative positioned Sankey diagrams!\")"
   ]
  },
  {
   "cell_type": "code",
   "execution_count": 27,
   "id": "73a1b853",
   "metadata": {},
   "outputs": [
    {
     "name": "stdout",
     "output_type": "stream",
     "text": [
      "Loading data from VSc2x.xlsx...\n",
      "Successfully loaded 4 race types:\n",
      "- voorwedstrijden: 38 rows\n",
      "- challenges: 38 rows\n",
      "- halve finales: 37 rows\n",
      "- finales: 35 rows\n",
      "\n"
     ]
    }
   ],
   "source": [
    "# Load and process the Excel data\n",
    "excel_file = \"VSc2x.xlsx\"\n",
    "print(f\"Loading data from {excel_file}...\")\n",
    "\n",
    "# Load the Excel file and split by race types\n",
    "race_dataframes = load_and_process_excel(excel_file)\n",
    "\n",
    "print(f\"Successfully loaded {len(race_dataframes)} race types:\")\n",
    "for race_type, df in race_dataframes.items():\n",
    "    print(f\"- {race_type}: {len(df)} rows\")\n",
    "print()"
   ]
  },
  {
   "cell_type": "code",
   "execution_count": 28,
   "id": "782664f4",
   "metadata": {},
   "outputs": [
    {
     "name": "stdout",
     "output_type": "stream",
     "text": [
      "Processing race data for crew tracking...\n",
      "\n",
      "Processing voorwedstrijden:\n",
      "  Found 5 stages with total 38 crew entries\n",
      "\n",
      "Processing challenges:\n",
      "  Found 7 stages with total 38 crew entries\n",
      "\n",
      "Processing halve finales:\n",
      "  Found 7 stages with total 37 crew entries\n",
      "\n",
      "Processing finales:\n",
      "  Found 6 stages with total 35 crew entries\n",
      "\n",
      "Total crew entries across all races: 148\n",
      "\n",
      "Example crew entry:\n",
      "  pos: 1\n",
      "  code: SKA\n",
      "  ploeg: Skadi/Argo\n",
      "  veld: LVG 2x\n",
      "  baan: [2]\n",
      "  race_name: za 10:20 - race 117 - [303] VSc 2x voorwedstrijd 1\n",
      "  race_number: 117\n",
      "  race_sub_number: 1\n",
      "  race_type: voorwedstrijden\n",
      "  crew_member: Bente Jonkman\n",
      "  crew_unique_id: SKA_1_1\n"
     ]
    }
   ],
   "source": [
    "# The race_dataframes already contain processed data split by race type\n",
    "# We need to process the crew data to extract the proper structure for crew tracking\n",
    "print(\"Processing race data for crew tracking...\")\n",
    "\n",
    "all_race_data = {}\n",
    "all_crews = []\n",
    "\n",
    "# The race_dataframes already have the data in the format we need\n",
    "# We just need to convert them to the format expected by crew tracking\n",
    "for race_type, df in race_dataframes.items():\n",
    "    print(f\"\\nProcessing {race_type}:\")\n",
    "    \n",
    "    # Convert dataframe rows to crew entries (excluding time columns)\n",
    "    crew_entries = []\n",
    "    for _, row in df.iterrows():\n",
    "        crew_entry = {\n",
    "            'pos': row.get('pos.', ''),\n",
    "            'code': row.get('code', ''),\n",
    "            'ploeg': row.get('ploeg', ''),\n",
    "            'veld': row.get('veld', ''),\n",
    "            'baan': row.get('baan', ''),\n",
    "            'race_name': row.get('race_name', ''),\n",
    "            'race_number': row.get('race_number', ''),\n",
    "            'race_sub_number': row.get('race_sub_number', ''),\n",
    "            'race_type': row.get('race_type', ''),\n",
    "            'crew_member': row.get('crew_member', ''),\n",
    "            'crew_unique_id': row.get('crew_unique_id', '')\n",
    "        }\n",
    "        crew_entries.append(crew_entry)\n",
    "        all_crews.append(crew_entry)\n",
    "    \n",
    "    # Group by race_name for the structure expected by crew tracking\n",
    "    race_data = {}\n",
    "    for entry in crew_entries:\n",
    "        race_name = entry['race_name']\n",
    "        if race_name not in race_data:\n",
    "            race_data[race_name] = []\n",
    "        race_data[race_name].append(entry)\n",
    "    \n",
    "    all_race_data[race_type] = race_data\n",
    "    print(f\"  Found {len(race_data)} stages with total {len(crew_entries)} crew entries\")\n",
    "\n",
    "print(f\"\\nTotal crew entries across all races: {len(all_crews)}\")\n",
    "\n",
    "# Show example of data structure\n",
    "if all_crews:\n",
    "    print(f\"\\nExample crew entry:\")\n",
    "    example = all_crews[0]\n",
    "    for key, value in example.items():\n",
    "        print(f\"  {key}: {value}\")"
   ]
  },
  {
   "cell_type": "code",
   "execution_count": 29,
   "id": "7d159173",
   "metadata": {},
   "outputs": [
    {
     "name": "stdout",
     "output_type": "stream",
     "text": [
      "Tracking crew progression through competition stages...\n",
      "Successfully tracked 38 unique crews\n",
      "{'SKA_Bente_Jonkman': {'code': 'SKA', 'ploeg': 'Skadi/Argo', 'veld': 'LVG', 'crew_member': 'Bente Jonkman', 'stages': {'Voorwedstrijden': 'Voorwedstrijden 1', 'Challenges': 'Challenges 5', 'Halve Finales': 'Halve Finales 2', 'Finales': 'Finales (B)'}}, 'TRI_Femke_Holleman': {'code': 'TRI', 'ploeg': 'Triton (Dev)', 'veld': 'VB', 'crew_member': 'Femke Holleman', 'stages': {'Voorwedstrijden': 'Voorwedstrijden 1', 'Challenges': 'Challenges 2', 'Halve Finales': 'Halve Finales 3', 'Finales': 'Finales (B)'}}, 'MAA_Ilse_Feenstra': {'code': 'MAA', 'ploeg': 'Maas', 'veld': 'VE', 'crew_member': 'Ilse Feenstra', 'stages': {'Voorwedstrijden': 'Voorwedstrijden 1', 'Challenges': 'Challenges 4', 'Halve Finales': 'Halve Finales 4', 'Finales': 'Finales (D)'}}, 'NER_Juliette_Potjer': {'code': 'NER', 'ploeg': 'Nereus (Dev)', 'veld': 'VG', 'crew_member': 'Juliette Potjer', 'stages': {'Voorwedstrijden': 'Voorwedstrijden 1', 'Challenges': 'Challenges 1', 'Halve Finales': 'Halve Finales 1', 'Finales': 'Finales (C)'}}, 'PRO_Anouk_Rensen': {'code': 'PRO', 'ploeg': 'Proteus-Eretes 2 (Dev)', 'veld': 'VG', 'crew_member': 'Anouk Rensen', 'stages': {'Voorwedstrijden': 'Voorwedstrijden 1', 'Challenges': 'Challenges 7', 'Halve Finales': 'Halve Finales 2', 'Finales': 'Finales (D)'}}, 'VID_Julia_van_Grunsven': {'code': 'VID', 'ploeg': 'Vidar 2 (Dev)', 'veld': 'VB', 'crew_member': 'Julia van Grunsven', 'stages': {'Voorwedstrijden': 'Voorwedstrijden 1', 'Challenges': 'Challenges 6', 'Halve Finales': 'Halve Finales 3', 'Finales': 'Finales (D)'}}, 'SKA_Anna_van_Vliet': {'code': 'SKA', 'ploeg': 'Skadi 2 (LDev)', 'veld': 'LVG', 'crew_member': 'Anna van Vliet', 'stages': {'Voorwedstrijden': 'Voorwedstrijden 1', 'Challenges': 'Challenges 3', 'Halve Finales': 'Halve Finales 1', 'Finales': 'Finales (D)'}}, 'SKO_Loïs_Hoexum': {'code': 'SKO', 'ploeg': 'Skøll 2 (Dev)', 'veld': 'VG', 'crew_member': 'Loïs Hoexum', 'stages': {'Voorwedstrijden': 'Voorwedstrijden 2', 'Challenges': 'Challenges 6', 'Halve Finales': 'Halve Finales 1', 'Finales': 'Finales (A)'}}, 'PRO_Eva_Zwaveling': {'code': 'PRO', 'ploeg': 'Proteus-Eretes 1 (Dev)', 'veld': 'VG', 'crew_member': 'Eva Zwaveling', 'stages': {'Voorwedstrijden': 'Voorwedstrijden 2', 'Challenges': 'Challenges 7', 'Halve Finales': 'Halve Finales 2', 'Finales': 'Finales (A)'}}, 'SKA_Gitta_Posthumus': {'code': 'SKA', 'ploeg': 'Skadi 1 (LDev)', 'veld': 'LVG', 'crew_member': 'Gitta Posthumus', 'stages': {'Voorwedstrijden': 'Voorwedstrijden 2', 'Challenges': 'Challenges 3', 'Halve Finales': 'Halve Finales 1', 'Finales': 'Finales (B)'}}, 'LAG_Florine_Vermeer': {'code': 'LAG', 'ploeg': 'Laga (LDev)', 'veld': 'LVG', 'crew_member': 'Florine Vermeer', 'stages': {'Voorwedstrijden': 'Voorwedstrijden 2', 'Challenges': 'Challenges 4', 'Halve Finales': 'Halve Finales 3', 'Finales': 'Finales (B)'}}, 'VID_Toni_jules_Salvetti': {'code': 'VID', 'ploeg': 'Vidar 1 (Dev)', 'veld': 'VB', 'crew_member': 'Toni jules Salvetti', 'stages': {'Voorwedstrijden': 'Voorwedstrijden 2', 'Challenges': 'Challenges 7', 'Halve Finales': 'Halve Finales 3', 'Finales': 'Finales (C)'}}, 'ORC_Madelief_van_Kammen': {'code': 'ORC', 'ploeg': 'Orca (Dev)', 'veld': 'VG', 'crew_member': 'Madelief van Kammen', 'stages': {'Voorwedstrijden': 'Voorwedstrijden 2', 'Challenges': 'Challenges 5'}}, 'PEL_Lynn_Buningh': {'code': 'PEL', 'ploeg': 'Pelargos (Dev)', 'veld': 'VB', 'crew_member': 'Lynn Buningh', 'stages': {'Voorwedstrijden': 'Voorwedstrijden 2', 'Challenges': 'Challenges 2', 'Halve Finales': 'Halve Finales 2', 'Finales': 'Finales (F)'}}, 'ORC_Sem_Austermann': {'code': 'ORC', 'ploeg': 'Orca/Skøll', 'veld': 'VG', 'crew_member': 'Sem Austermann', 'stages': {'Voorwedstrijden': 'Voorwedstrijden 3', 'Challenges': 'Challenges 3', 'Halve Finales': 'Halve Finales 3', 'Finales': 'Finales (A)'}}, 'OKE_Maike_van_de_Velde': {'code': 'OKE', 'ploeg': 'Okeanos/Vidar (Dev)', 'veld': 'VG', 'crew_member': 'Maike van de Velde', 'stages': {'Voorwedstrijden': 'Voorwedstrijden 3', 'Challenges': 'Challenges 7', 'Halve Finales': 'Halve Finales 1', 'Finales': 'Finales (A)'}}, 'SKO_Rina_Engel': {'code': 'SKO', 'ploeg': 'Skøll/Okeanos (LDev)', 'veld': 'LVG', 'crew_member': 'Rina Engel', 'stages': {'Voorwedstrijden': 'Voorwedstrijden 3', 'Challenges': 'Challenges 6', 'Halve Finales': 'Halve Finales 2', 'Finales': 'Finales (B)'}}, 'PHO_Aleksandra_Vasilieva': {'code': 'PHO', 'ploeg': 'Phocas 1 (Dev)', 'veld': 'VG', 'crew_member': 'Aleksandra Vasilieva', 'stages': {'Voorwedstrijden': 'Voorwedstrijden 3', 'Challenges': 'Challenges 2', 'Halve Finales': 'Halve Finales 2', 'Finales': 'Finales (D)'}}, 'VID_Pleun_Maas': {'code': 'VID', 'ploeg': 'Vidar (LDev)', 'veld': 'LVG-B', 'crew_member': 'Pleun Maas', 'stages': {'Voorwedstrijden': 'Voorwedstrijden 3', 'Challenges': 'Challenges 1', 'Halve Finales': 'Halve Finales 1', 'Finales': 'Finales (D)'}}, 'ASO_Martina_Sliva': {'code': 'ASO', 'ploeg': 'Asopos de Vliet (LDev)', 'veld': 'LVG-B', 'crew_member': 'Martina Sliva', 'stages': {'Voorwedstrijden': 'Voorwedstrijden 3', 'Challenges': 'Challenges 5', 'Halve Finales': 'Halve Finales 2', 'Finales': 'Finales (C)'}}, 'ARG_Lana_van_den_Berg': {'code': 'ARG', 'ploeg': 'Argo (Dev)', 'veld': 'VG', 'crew_member': 'Lana van den Berg', 'stages': {'Voorwedstrijden': 'Voorwedstrijden 3', 'Challenges': 'Challenges 4', 'Halve Finales': 'Halve Finales 1', 'Finales': 'Finales (C)'}}, 'LAG_Lieve_Marees': {'code': 'LAG', 'ploeg': 'Laga', 'veld': 'VB', 'crew_member': 'Lieve Marees', 'stages': {'Voorwedstrijden': 'Voorwedstrijden 3', 'Challenges': 'Challenges 7', 'Halve Finales': 'Halve Finales 1', 'Finales': 'Finales (F)'}}, 'PHO_Merle_de_Vries': {'code': 'PHO', 'ploeg': 'Phocas 2', 'veld': 'VG', 'crew_member': 'Merle de Vries', 'stages': {'Voorwedstrijden': 'Voorwedstrijden 4', 'Challenges': 'Challenges 4', 'Halve Finales': 'Halve Finales 3', 'Finales': 'Finales (A)'}}, 'GYA_Mijke_Nijenhuis': {'code': 'GYA', 'ploeg': 'Gyas (Dev)', 'veld': 'VG', 'crew_member': 'Mijke Nijenhuis', 'stages': {'Voorwedstrijden': 'Voorwedstrijden 4', 'Challenges': 'Challenges 1', 'Halve Finales': 'Halve Finales 2', 'Finales': 'Finales (C)'}}, 'SKA_Fleur_van_der_van_der_Velden': {'code': 'SKA', 'ploeg': 'Skadi', 'veld': 'VG', 'crew_member': 'Fleur van der van der Velden', 'stages': {'Voorwedstrijden': 'Voorwedstrijden 4', 'Challenges': 'Challenges 5', 'Halve Finales': 'Halve Finales 1'}}, 'ASO_Willemijn_Reij': {'code': 'ASO', 'ploeg': 'Asopos de Vliet (Dev)', 'veld': 'VB', 'crew_member': 'Willemijn Reij', 'stages': {'Voorwedstrijden': 'Voorwedstrijden 4', 'Challenges': 'Challenges 3', 'Halve Finales': 'Halve Finales 3', 'Finales': 'Finales (E)'}}, 'PRO_Hannah_van_Regteren': {'code': 'PRO', 'ploeg': 'Proteus-Eretes/Vidar (LDev)', 'veld': 'LVG-B', 'crew_member': 'Hannah van Regteren', 'stages': {'Voorwedstrijden': 'Voorwedstrijden 4', 'Challenges': 'Challenges 2', 'Halve Finales': 'Halve Finales 3', 'Finales': 'Finales (F)'}}, 'GYA_Merel_Morshuis': {'code': 'GYA', 'ploeg': 'Gyas (Dev)', 'veld': 'VB', 'crew_member': 'Merel Morshuis', 'stages': {'Voorwedstrijden': 'Voorwedstrijden 4', 'Challenges': 'Challenges 6', 'Halve Finales': 'Halve Finales 3', 'Finales': 'Finales (E)'}}, 'SKO_Kika_de_Kwant': {'code': 'SKO', 'ploeg': 'Skøll/Orca 2', 'veld': 'VG', 'crew_member': 'Kika de Kwant', 'stages': {'Voorwedstrijden': 'Voorwedstrijden 4', 'Challenges': 'Challenges 7', 'Halve Finales': 'Halve Finales 4', 'Finales': 'Finales (F)'}}, 'ORC_Julia_Claessens': {'code': 'ORC', 'ploeg': 'Orca (LDev)', 'veld': 'LVG-B', 'crew_member': 'Julia Claessens', 'stages': {'Voorwedstrijden': 'Voorwedstrijden 4', 'Challenges': 'Challenges 1', 'Halve Finales': 'Halve Finales 3'}}, 'NJO_Anne_Visschers': {'code': 'NJO', 'ploeg': 'Njord (Dev)', 'veld': 'VG', 'crew_member': 'Anne Visschers', 'stages': {'Voorwedstrijden': 'Voorwedstrijden 5', 'Challenges': 'Challenges 1', 'Halve Finales': 'Halve Finales 1', 'Finales': 'Finales (B)'}}, 'SKO_Mabel_Foster': {'code': 'SKO', 'ploeg': 'Skøll 1 (Dev)', 'veld': 'VG', 'crew_member': 'Mabel Foster', 'stages': {'Voorwedstrijden': 'Voorwedstrijden 5', 'Challenges': 'Challenges 2', 'Halve Finales': 'Halve Finales 2', 'Finales': 'Finales (A)'}}, 'LAG_Romee_van_der_Worp': {'code': 'LAG', 'ploeg': 'Laga (Dev)', 'veld': 'VG', 'crew_member': 'Romee van der Worp', 'stages': {'Voorwedstrijden': 'Voorwedstrijden 5', 'Challenges': 'Challenges 5', 'Halve Finales': 'Halve Finales 3', 'Finales': 'Finales (C)'}}, 'TRI_Jacqueline_ter_Horst': {'code': 'TRI', 'ploeg': 'Triton', 'veld': 'VG', 'crew_member': 'Jacqueline ter Horst', 'stages': {'Voorwedstrijden': 'Voorwedstrijden 5', 'Challenges': 'Challenges 6', 'Halve Finales': 'Halve Finales 2', 'Finales': 'Finales (E)'}}, 'SAU_Anna_De_Lange': {'code': 'SAU', 'ploeg': 'Saurus (Dev)', 'veld': 'VB', 'crew_member': 'Anna De Lange', 'stages': {'Voorwedstrijden': 'Voorwedstrijden 5', 'Challenges': 'Challenges 4', 'Halve Finales': 'Halve Finales 2', 'Finales': 'Finales (F)'}}, 'ORC_Maud_Steinmann': {'code': 'ORC', 'ploeg': 'Orca (LDev)', 'veld': 'LVG-B', 'crew_member': 'Maud Steinmann', 'stages': {'Voorwedstrijden': 'Voorwedstrijden 5', 'Challenges': 'Challenges 3', 'Halve Finales': 'Halve Finales 1', 'Finales': 'Finales (E)'}}, 'NJO_Isis_van_Wolde': {'code': 'NJO', 'ploeg': 'Njord (LDev)', 'veld': 'LVG-B', 'crew_member': 'Isis van Wolde', 'stages': {'Voorwedstrijden': 'Voorwedstrijden 5', 'Challenges': 'Challenges 1', 'Halve Finales': 'Halve Finales 4', 'Finales': 'Finales (E)'}}, 'SKO_Lotte_Verbeem': {'code': 'SKO', 'ploeg': 'Skøll (Dev)', 'veld': 'VB', 'crew_member': 'Lotte Verbeem', 'stages': {'Voorwedstrijden': 'Voorwedstrijden 5', 'Challenges': 'Challenges 2', 'Halve Finales': 'Halve Finales 4', 'Finales': 'Finales (E)'}}}\n"
     ]
    }
   ],
   "source": [
    "# Track crew progression through competition stages\n",
    "print(\"Tracking crew progression through competition stages...\")\n",
    "\n",
    "crew_progressions = track_crew_progression_with_slag(all_race_data)\n",
    "\n",
    "print(f\"Successfully tracked {len(crew_progressions)} unique crews\")\n",
    "\n",
    "# Analyze the progression patterns\n",
    "analysis_results = analyze_crew_progression(crew_progressions)\n",
    "\n",
    "# Print detailed summary\n",
    "print(crew_progressions)"
   ]
  },
  {
   "cell_type": "code",
   "execution_count": 30,
   "id": "0de1dfd2",
   "metadata": {},
   "outputs": [
    {
     "name": "stdout",
     "output_type": "stream",
     "text": [
      "=== CREATING 4-COLUMN SANKEY DIAGRAM ===\n",
      "Showing complete flow: Veld → Halve Finale Groups → Individual Finales → Final Positions\n",
      "Creating adaptive 4-column cumulative Sankey...\n",
      "Detecting competition format...\n",
      "Detected configuration:\n",
      "  - Boat class: 2x\n",
      "  - Veld categories: 5 found\n",
      "  - Finale letters: ['A', 'B', 'C', 'D', 'E', 'F', 'G']\n",
      "  - Halve finale groups: ['ABC', 'DEFG']\n",
      "  - Prefix patterns: {'LG': 'LV', 'B': 'V', 'E': 'V', 'G': 'V'}\n",
      "Processing halve finales data (veld → unlabeled halve finale nodes):\n",
      "  Processing: zo 10:19 - race 218 - [303] VSc 2x halve-DEFG-finale 1 (5 crews)\n",
      "  Processing: zo 10:23 - race 219 - [303] VSc 2x halve-DEFG-finale 2 (5 crews)\n",
      "  Processing: zo 10:27 - race 220 - [303] VSc 2x halve-DEFG-finale 3 (5 crews)\n",
      "  Processing: zo 10:31 - race 221 - [303] VSc 2x halve-DEFG-finale 4 (4 crews)\n",
      "  Processing: zo 10:35 - race 222 - [303] VSc 2x halve-ABC-finale 1 (6 crews)\n",
      "  Processing: zo 10:39 - race 223 - [303] VSc 2x halve-ABC-finale 2 (6 crews)\n",
      "  Processing: zo 10:43 - race 224 - [303] VSc 2x halve-ABC-finale 3 (6 crews)\n",
      "\n",
      "Processing finales data (detailed halve finale nodes → individual finales):\n",
      "  Processing: zo 14:56 - race 270 - [303] VSc 2x F-finale (5 crews)\n",
      "  Processing: zo 15:00 - race 271 - [303] VSc 2x E-finale (6 crews)\n",
      "  Processing: zo 15:04 - race 272 - [303] VSc 2x D-finale (6 crews)\n",
      "  Processing: zo 15:08 - race 273 - [303] VSc 2x C-finale (6 crews)\n",
      "  Processing: zo 15:12 - race 274 - [303] VSc 2x B-finale (6 crews)\n",
      "  Processing: zo 15:16 - race 275 - [303] VSc 2x A-finale WRB Beker (6 crews)\n",
      "\n",
      "Processing finales positions (individual finales → final positions with field tracking):\n",
      "  Processing positions for: zo 14:56 - race 270 - [303] VSc 2x F-finale (5 crews)\n",
      "  Processing positions for: zo 15:00 - race 271 - [303] VSc 2x E-finale (6 crews)\n",
      "  Processing positions for: zo 15:04 - race 272 - [303] VSc 2x D-finale (6 crews)\n",
      "  Processing positions for: zo 15:08 - race 273 - [303] VSc 2x C-finale (6 crews)\n",
      "  Processing positions for: zo 15:12 - race 274 - [303] VSc 2x B-finale (6 crews)\n",
      "  Processing positions for: zo 15:16 - race 275 - [303] VSc 2x A-finale WRB Beker (6 crews)\n",
      "\n",
      "Found 5 veld categories\n",
      "Found 9 detailed halve finale nodes\n",
      "Found 6 individual finales\n",
      "Found 0 final positions\n",
      "\n",
      "Column 1 (Veld): 5 nodes\n",
      "Column 2 (Halve Finales): 9 nodes\n",
      "Column 3 (Finales): 6 nodes\n",
      "Column 4 (Eindklassering): 35 nodes\n",
      "\n",
      "Column 1 (Veld categorieën):\n",
      "  Veld VE 2x           y=0.014 (count: 1)\n",
      "  Veld VG 2x           y=0.243 (count: 16)\n",
      "  Veld VB 2x           y=0.581 (count: 9)\n",
      "  Veld LVG 2x          y=0.770 (count: 5)\n",
      "  Veld LVG-B 2x        y=0.919 (count: 6)\n",
      "\n",
      "Column 4 (Final Positions) - first 10:\n",
      "  Eindklassering 1 (VG 2x)       y=0.014 (pos: 1) [VG 2x]\n",
      "  Eindklassering 2 (VG 2x)       y=0.043 (pos: 2) [VG 2x]\n",
      "  Eindklassering 3 (VG 2x)       y=0.071 (pos: 3) [VG 2x]\n",
      "  Eindklassering 4 (VG 2x)       y=0.100 (pos: 4) [VG 2x]\n",
      "  Eindklassering 5 (VG 2x)       y=0.129 (pos: 5) [VG 2x]\n",
      "  Eindklassering 6 (VG 2x)       y=0.157 (pos: 6) [VG 2x]\n",
      "  Eindklassering 7 (VG 2x)       y=0.186 (pos: 7) [VG 2x]\n",
      "  Eindklassering 8 (LVG 2x)      y=0.214 (pos: 8) [LVG 2x]\n",
      "  Eindklassering 9 (LVG 2x)      y=0.243 (pos: 9) [LVG 2x]\n",
      "  Eindklassering 10 (VB 2x)      y=0.271 (pos: 10) [VB 2x]\n",
      "  ... and 25 more positions\n"
     ]
    },
    {
     "data": {
      "application/vnd.plotly.v1+json": {
       "config": {
        "plotlyServerURL": "https://plot.ly"
       },
       "data": [
        {
         "arrangement": "fixed",
         "link": {
          "color": [
           "rgba(255, 20, 147, 0.6)",
           "rgba(0, 255, 127, 0.6)",
           "rgba(52, 152, 219, 0.6)",
           "rgba(149, 165, 166, 0.6)",
           "rgba(231, 76, 60, 0.6)",
           "rgba(52, 152, 219, 0.6)",
           "rgba(0, 255, 127, 0.6)",
           "rgba(255, 20, 147, 0.6)",
           "rgba(149, 165, 166, 0.6)",
           "rgba(149, 165, 166, 0.6)",
           "rgba(52, 152, 219, 0.6)",
           "rgba(255, 20, 147, 0.6)",
           "rgba(149, 165, 166, 0.6)",
           "rgba(255, 20, 147, 0.6)",
           "rgba(52, 152, 219, 0.6)",
           "rgba(231, 76, 60, 0.6)",
           "rgba(52, 152, 219, 0.6)",
           "rgba(255, 20, 147, 0.6)",
           "rgba(149, 165, 166, 0.6)",
           "rgba(0, 255, 127, 0.6)",
           "rgba(52, 152, 219, 0.6)",
           "rgba(149, 165, 166, 0.6)",
           "rgba(255, 20, 147, 0.6)",
           "rgba(52, 152, 219, 0.6)",
           "rgba(0, 255, 127, 0.6)",
           "rgba(149, 165, 166, 0.6)",
           "rgba(52, 152, 219, 0.6)",
           "rgba(149, 165, 166, 0.6)",
           "rgba(52, 152, 219, 0.6)",
           "rgba(255, 20, 147, 0.6)",
           "rgba(149, 165, 166, 0.6)",
           "rgba(149, 165, 166, 0.6)",
           "rgba(149, 165, 166, 0.6)",
           "rgba(255, 20, 147, 0.6)",
           "rgba(255, 20, 147, 0.6)",
           "rgba(52, 152, 219, 0.6)",
           "rgba(149, 165, 166, 0.6)",
           "rgba(149, 165, 166, 0.6)",
           "rgba(231, 76, 60, 0.6)",
           "rgba(52, 152, 219, 0.6)",
           "rgba(255, 20, 147, 0.6)",
           "rgba(149, 165, 166, 0.6)",
           "rgba(52, 152, 219, 0.6)",
           "rgba(0, 255, 127, 0.6)",
           "rgba(52, 152, 219, 0.6)",
           "rgba(52, 152, 219, 0.6)",
           "rgba(52, 152, 219, 0.6)",
           "rgba(149, 165, 166, 0.6)",
           "rgba(52, 152, 219, 0.6)",
           "rgba(255, 20, 147, 0.6)",
           "rgba(52, 152, 219, 0.6)",
           "rgba(0, 255, 127, 0.6)",
           "rgba(0, 255, 127, 0.6)",
           "rgba(149, 165, 166, 0.6)",
           "rgba(0, 255, 127, 0.6)",
           "rgba(0, 255, 127, 0.6)",
           "rgba(52, 152, 219, 0.6)",
           "rgba(52, 152, 219, 0.6)",
           "rgba(52, 152, 219, 0.6)",
           "rgba(52, 152, 219, 0.6)",
           "rgba(52, 152, 219, 0.6)",
           "rgba(52, 152, 219, 0.6)"
          ],
          "source": [
           4,
           3,
           1,
           2,
           0,
           1,
           3,
           4,
           2,
           12,
           11,
           13,
           12,
           13,
           11,
           9,
           11,
           13,
           12,
           10,
           5,
           7,
           8,
           5,
           6,
           7,
           5,
           19,
           19,
           19,
           19,
           19,
           18,
           18,
           18,
           18,
           18,
           18,
           17,
           17,
           17,
           17,
           17,
           17,
           16,
           16,
           16,
           16,
           16,
           16,
           15,
           15,
           15,
           15,
           15,
           15,
           14,
           14,
           14,
           14,
           14,
           14
          ],
          "target": [
           13,
           10,
           11,
           12,
           9,
           5,
           6,
           8,
           7,
           19,
           19,
           19,
           18,
           18,
           18,
           17,
           17,
           17,
           17,
           17,
           16,
           16,
           16,
           15,
           15,
           15,
           14,
           50,
           51,
           52,
           53,
           54,
           44,
           45,
           46,
           47,
           48,
           49,
           38,
           39,
           40,
           41,
           42,
           43,
           32,
           33,
           34,
           35,
           36,
           37,
           26,
           27,
           28,
           29,
           30,
           31,
           20,
           21,
           22,
           23,
           24,
           25
          ],
          "value": [
           5,
           1,
           5,
           7,
           1,
           11,
           4,
           1,
           2,
           3,
           1,
           1,
           3,
           2,
           1,
           1,
           2,
           1,
           1,
           1,
           4,
           1,
           1,
           1,
           4,
           1,
           6,
           1,
           1,
           1,
           1,
           1,
           1,
           1,
           1,
           1,
           1,
           1,
           1,
           1,
           1,
           1,
           1,
           1,
           1,
           1,
           1,
           1,
           1,
           1,
           1,
           1,
           1,
           1,
           1,
           1,
           1,
           1,
           1,
           1,
           1,
           1
          ]
         },
         "node": {
          "color": [
           "#E74C3C",
           "#3498DB",
           "#95A5A6",
           "#00FF7F",
           "#FF1493",
           "#3498DB",
           "#00FF7F",
           "#95A5A6",
           "#FF1493",
           "#E74C3C",
           "#00FF7F",
           "#3498DB",
           "#95A5A6",
           "#FF1493",
           "#95A5A6",
           "#95A5A6",
           "#95A5A6",
           "#95A5A6",
           "#95A5A6",
           "#95A5A6",
           "#3498DB",
           "#3498DB",
           "#3498DB",
           "#3498DB",
           "#3498DB",
           "#3498DB",
           "#3498DB",
           "#00FF7F",
           "#00FF7F",
           "#95A5A6",
           "#00FF7F",
           "#00FF7F",
           "#3498DB",
           "#3498DB",
           "#3498DB",
           "#95A5A6",
           "#3498DB",
           "#FF1493",
           "#E74C3C",
           "#3498DB",
           "#FF1493",
           "#95A5A6",
           "#3498DB",
           "#00FF7F",
           "#95A5A6",
           "#FF1493",
           "#FF1493",
           "#3498DB",
           "#95A5A6",
           "#95A5A6",
           "#95A5A6",
           "#3498DB",
           "#FF1493",
           "#95A5A6",
           "#95A5A6"
          ],
          "label": [
           "Veld VE 2x",
           "Veld VG 2x",
           "Veld VB 2x",
           "Veld LVG 2x",
           "Veld LVG-B 2x",
           "",
           "",
           "",
           "",
           "",
           "",
           "",
           "",
           "",
           "Finale A",
           "Finale B",
           "Finale C",
           "Finale D",
           "Finale E",
           "Finale F",
           "Eindklassering 1 (VG 2x)",
           "Eindklassering 2 (VG 2x)",
           "Eindklassering 3 (VG 2x)",
           "Eindklassering 4 (VG 2x)",
           "Eindklassering 5 (VG 2x)",
           "Eindklassering 6 (VG 2x)",
           "Eindklassering 7 (VG 2x)",
           "Eindklassering 8 (LVG 2x)",
           "Eindklassering 9 (LVG 2x)",
           "Eindklassering 10 (VB 2x)",
           "Eindklassering 11 (LVG 2x)",
           "Eindklassering 12 (LVG 2x)",
           "Eindklassering 13 (VG 2x)",
           "Eindklassering 14 (VG 2x)",
           "Eindklassering 15 (VG 2x)",
           "Eindklassering 16 (VB 2x)",
           "Eindklassering 17 (VG 2x)",
           "Eindklassering 18 (LVG-B 2x)",
           "Eindklassering 19 (VE 2x)",
           "Eindklassering 20 (VG 2x)",
           "Eindklassering 21 (LVG-B 2x)",
           "Eindklassering 22 (VB 2x)",
           "Eindklassering 23 (VG 2x)",
           "Eindklassering 24 (LVG 2x)",
           "Eindklassering 25 (VB 2x)",
           "Eindklassering 26 (LVG-B 2x)",
           "Eindklassering 27 (LVG-B 2x)",
           "Eindklassering 28 (VG 2x)",
           "Eindklassering 29 (VB 2x)",
           "Eindklassering 30 (VB 2x)",
           "Eindklassering 31 (VB 2x)",
           "Eindklassering 32 (VG 2x)",
           "Eindklassering 33 (LVG-B 2x)",
           "Eindklassering 34 (VB 2x)",
           "Eindklassering 35 (VB 2x)"
          ],
          "line": {
           "color": "black",
           "width": 1
          },
          "pad": 4,
          "thickness": 12,
          "x": [
           0.02,
           0.02,
           0.02,
           0.02,
           0.02,
           0.35,
           0.35,
           0.35,
           0.35,
           0.35,
           0.35,
           0.35,
           0.35,
           0.35,
           0.65,
           0.65,
           0.65,
           0.65,
           0.65,
           0.65,
           0.98,
           0.98,
           0.98,
           0.98,
           0.98,
           0.98,
           0.98,
           0.98,
           0.98,
           0.98,
           0.98,
           0.98,
           0.98,
           0.98,
           0.98,
           0.98,
           0.98,
           0.98,
           0.98,
           0.98,
           0.98,
           0.98,
           0.98,
           0.98,
           0.98,
           0.98,
           0.98,
           0.98,
           0.98,
           0.98,
           0.98,
           0.98,
           0.98,
           0.98,
           0.98
          ],
          "y": [
           0.013513513513513514,
           0.24324324324324326,
           0.581081081081081,
           0.7702702702702703,
           0.918918918918919,
           0.1527777777777778,
           0.3611111111111111,
           0.4444444444444444,
           0.4861111111111111,
           0.5138888888888888,
           0.5416666666666666,
           0.6180555555555556,
           0.7777777777777778,
           0.9375,
           0.08571428571428572,
           0.2571428571428571,
           0.42857142857142855,
           0.6,
           0.7714285714285715,
           0.9285714285714286,
           0.014285714285714285,
           0.04285714285714286,
           0.07142857142857142,
           0.1,
           0.12857142857142856,
           0.15714285714285714,
           0.18571428571428572,
           0.21428571428571427,
           0.24285714285714285,
           0.2714285714285714,
           0.3,
           0.32857142857142857,
           0.35714285714285715,
           0.38571428571428573,
           0.4142857142857143,
           0.44285714285714284,
           0.4714285714285714,
           0.5,
           0.5285714285714286,
           0.5571428571428572,
           0.5857142857142857,
           0.6142857142857143,
           0.6428571428571429,
           0.6714285714285714,
           0.7,
           0.7285714285714285,
           0.7571428571428571,
           0.7857142857142857,
           0.8142857142857143,
           0.8428571428571429,
           0.8714285714285714,
           0.9,
           0.9285714285714286,
           0.9571428571428572,
           0.9857142857142858
          ]
         },
         "type": "sankey"
        }
       ],
       "layout": {
        "font": {
         "size": 10
        },
        "height": 600,
        "margin": {
         "b": 60,
         "l": 60,
         "r": 60,
         "t": 60
        },
        "template": {
         "data": {
          "bar": [
           {
            "error_x": {
             "color": "#2a3f5f"
            },
            "error_y": {
             "color": "#2a3f5f"
            },
            "marker": {
             "line": {
              "color": "#E5ECF6",
              "width": 0.5
             },
             "pattern": {
              "fillmode": "overlay",
              "size": 10,
              "solidity": 0.2
             }
            },
            "type": "bar"
           }
          ],
          "barpolar": [
           {
            "marker": {
             "line": {
              "color": "#E5ECF6",
              "width": 0.5
             },
             "pattern": {
              "fillmode": "overlay",
              "size": 10,
              "solidity": 0.2
             }
            },
            "type": "barpolar"
           }
          ],
          "carpet": [
           {
            "aaxis": {
             "endlinecolor": "#2a3f5f",
             "gridcolor": "white",
             "linecolor": "white",
             "minorgridcolor": "white",
             "startlinecolor": "#2a3f5f"
            },
            "baxis": {
             "endlinecolor": "#2a3f5f",
             "gridcolor": "white",
             "linecolor": "white",
             "minorgridcolor": "white",
             "startlinecolor": "#2a3f5f"
            },
            "type": "carpet"
           }
          ],
          "choropleth": [
           {
            "colorbar": {
             "outlinewidth": 0,
             "ticks": ""
            },
            "type": "choropleth"
           }
          ],
          "contour": [
           {
            "colorbar": {
             "outlinewidth": 0,
             "ticks": ""
            },
            "colorscale": [
             [
              0,
              "#0d0887"
             ],
             [
              0.1111111111111111,
              "#46039f"
             ],
             [
              0.2222222222222222,
              "#7201a8"
             ],
             [
              0.3333333333333333,
              "#9c179e"
             ],
             [
              0.4444444444444444,
              "#bd3786"
             ],
             [
              0.5555555555555556,
              "#d8576b"
             ],
             [
              0.6666666666666666,
              "#ed7953"
             ],
             [
              0.7777777777777778,
              "#fb9f3a"
             ],
             [
              0.8888888888888888,
              "#fdca26"
             ],
             [
              1,
              "#f0f921"
             ]
            ],
            "type": "contour"
           }
          ],
          "contourcarpet": [
           {
            "colorbar": {
             "outlinewidth": 0,
             "ticks": ""
            },
            "type": "contourcarpet"
           }
          ],
          "heatmap": [
           {
            "colorbar": {
             "outlinewidth": 0,
             "ticks": ""
            },
            "colorscale": [
             [
              0,
              "#0d0887"
             ],
             [
              0.1111111111111111,
              "#46039f"
             ],
             [
              0.2222222222222222,
              "#7201a8"
             ],
             [
              0.3333333333333333,
              "#9c179e"
             ],
             [
              0.4444444444444444,
              "#bd3786"
             ],
             [
              0.5555555555555556,
              "#d8576b"
             ],
             [
              0.6666666666666666,
              "#ed7953"
             ],
             [
              0.7777777777777778,
              "#fb9f3a"
             ],
             [
              0.8888888888888888,
              "#fdca26"
             ],
             [
              1,
              "#f0f921"
             ]
            ],
            "type": "heatmap"
           }
          ],
          "histogram": [
           {
            "marker": {
             "pattern": {
              "fillmode": "overlay",
              "size": 10,
              "solidity": 0.2
             }
            },
            "type": "histogram"
           }
          ],
          "histogram2d": [
           {
            "colorbar": {
             "outlinewidth": 0,
             "ticks": ""
            },
            "colorscale": [
             [
              0,
              "#0d0887"
             ],
             [
              0.1111111111111111,
              "#46039f"
             ],
             [
              0.2222222222222222,
              "#7201a8"
             ],
             [
              0.3333333333333333,
              "#9c179e"
             ],
             [
              0.4444444444444444,
              "#bd3786"
             ],
             [
              0.5555555555555556,
              "#d8576b"
             ],
             [
              0.6666666666666666,
              "#ed7953"
             ],
             [
              0.7777777777777778,
              "#fb9f3a"
             ],
             [
              0.8888888888888888,
              "#fdca26"
             ],
             [
              1,
              "#f0f921"
             ]
            ],
            "type": "histogram2d"
           }
          ],
          "histogram2dcontour": [
           {
            "colorbar": {
             "outlinewidth": 0,
             "ticks": ""
            },
            "colorscale": [
             [
              0,
              "#0d0887"
             ],
             [
              0.1111111111111111,
              "#46039f"
             ],
             [
              0.2222222222222222,
              "#7201a8"
             ],
             [
              0.3333333333333333,
              "#9c179e"
             ],
             [
              0.4444444444444444,
              "#bd3786"
             ],
             [
              0.5555555555555556,
              "#d8576b"
             ],
             [
              0.6666666666666666,
              "#ed7953"
             ],
             [
              0.7777777777777778,
              "#fb9f3a"
             ],
             [
              0.8888888888888888,
              "#fdca26"
             ],
             [
              1,
              "#f0f921"
             ]
            ],
            "type": "histogram2dcontour"
           }
          ],
          "mesh3d": [
           {
            "colorbar": {
             "outlinewidth": 0,
             "ticks": ""
            },
            "type": "mesh3d"
           }
          ],
          "parcoords": [
           {
            "line": {
             "colorbar": {
              "outlinewidth": 0,
              "ticks": ""
             }
            },
            "type": "parcoords"
           }
          ],
          "pie": [
           {
            "automargin": true,
            "type": "pie"
           }
          ],
          "scatter": [
           {
            "fillpattern": {
             "fillmode": "overlay",
             "size": 10,
             "solidity": 0.2
            },
            "type": "scatter"
           }
          ],
          "scatter3d": [
           {
            "line": {
             "colorbar": {
              "outlinewidth": 0,
              "ticks": ""
             }
            },
            "marker": {
             "colorbar": {
              "outlinewidth": 0,
              "ticks": ""
             }
            },
            "type": "scatter3d"
           }
          ],
          "scattercarpet": [
           {
            "marker": {
             "colorbar": {
              "outlinewidth": 0,
              "ticks": ""
             }
            },
            "type": "scattercarpet"
           }
          ],
          "scattergeo": [
           {
            "marker": {
             "colorbar": {
              "outlinewidth": 0,
              "ticks": ""
             }
            },
            "type": "scattergeo"
           }
          ],
          "scattergl": [
           {
            "marker": {
             "colorbar": {
              "outlinewidth": 0,
              "ticks": ""
             }
            },
            "type": "scattergl"
           }
          ],
          "scattermap": [
           {
            "marker": {
             "colorbar": {
              "outlinewidth": 0,
              "ticks": ""
             }
            },
            "type": "scattermap"
           }
          ],
          "scattermapbox": [
           {
            "marker": {
             "colorbar": {
              "outlinewidth": 0,
              "ticks": ""
             }
            },
            "type": "scattermapbox"
           }
          ],
          "scatterpolar": [
           {
            "marker": {
             "colorbar": {
              "outlinewidth": 0,
              "ticks": ""
             }
            },
            "type": "scatterpolar"
           }
          ],
          "scatterpolargl": [
           {
            "marker": {
             "colorbar": {
              "outlinewidth": 0,
              "ticks": ""
             }
            },
            "type": "scatterpolargl"
           }
          ],
          "scatterternary": [
           {
            "marker": {
             "colorbar": {
              "outlinewidth": 0,
              "ticks": ""
             }
            },
            "type": "scatterternary"
           }
          ],
          "surface": [
           {
            "colorbar": {
             "outlinewidth": 0,
             "ticks": ""
            },
            "colorscale": [
             [
              0,
              "#0d0887"
             ],
             [
              0.1111111111111111,
              "#46039f"
             ],
             [
              0.2222222222222222,
              "#7201a8"
             ],
             [
              0.3333333333333333,
              "#9c179e"
             ],
             [
              0.4444444444444444,
              "#bd3786"
             ],
             [
              0.5555555555555556,
              "#d8576b"
             ],
             [
              0.6666666666666666,
              "#ed7953"
             ],
             [
              0.7777777777777778,
              "#fb9f3a"
             ],
             [
              0.8888888888888888,
              "#fdca26"
             ],
             [
              1,
              "#f0f921"
             ]
            ],
            "type": "surface"
           }
          ],
          "table": [
           {
            "cells": {
             "fill": {
              "color": "#EBF0F8"
             },
             "line": {
              "color": "white"
             }
            },
            "header": {
             "fill": {
              "color": "#C8D4E3"
             },
             "line": {
              "color": "white"
             }
            },
            "type": "table"
           }
          ]
         },
         "layout": {
          "annotationdefaults": {
           "arrowcolor": "#2a3f5f",
           "arrowhead": 0,
           "arrowwidth": 1
          },
          "autotypenumbers": "strict",
          "coloraxis": {
           "colorbar": {
            "outlinewidth": 0,
            "ticks": ""
           }
          },
          "colorscale": {
           "diverging": [
            [
             0,
             "#8e0152"
            ],
            [
             0.1,
             "#c51b7d"
            ],
            [
             0.2,
             "#de77ae"
            ],
            [
             0.3,
             "#f1b6da"
            ],
            [
             0.4,
             "#fde0ef"
            ],
            [
             0.5,
             "#f7f7f7"
            ],
            [
             0.6,
             "#e6f5d0"
            ],
            [
             0.7,
             "#b8e186"
            ],
            [
             0.8,
             "#7fbc41"
            ],
            [
             0.9,
             "#4d9221"
            ],
            [
             1,
             "#276419"
            ]
           ],
           "sequential": [
            [
             0,
             "#0d0887"
            ],
            [
             0.1111111111111111,
             "#46039f"
            ],
            [
             0.2222222222222222,
             "#7201a8"
            ],
            [
             0.3333333333333333,
             "#9c179e"
            ],
            [
             0.4444444444444444,
             "#bd3786"
            ],
            [
             0.5555555555555556,
             "#d8576b"
            ],
            [
             0.6666666666666666,
             "#ed7953"
            ],
            [
             0.7777777777777778,
             "#fb9f3a"
            ],
            [
             0.8888888888888888,
             "#fdca26"
            ],
            [
             1,
             "#f0f921"
            ]
           ],
           "sequentialminus": [
            [
             0,
             "#0d0887"
            ],
            [
             0.1111111111111111,
             "#46039f"
            ],
            [
             0.2222222222222222,
             "#7201a8"
            ],
            [
             0.3333333333333333,
             "#9c179e"
            ],
            [
             0.4444444444444444,
             "#bd3786"
            ],
            [
             0.5555555555555556,
             "#d8576b"
            ],
            [
             0.6666666666666666,
             "#ed7953"
            ],
            [
             0.7777777777777778,
             "#fb9f3a"
            ],
            [
             0.8888888888888888,
             "#fdca26"
            ],
            [
             1,
             "#f0f921"
            ]
           ]
          },
          "colorway": [
           "#636efa",
           "#EF553B",
           "#00cc96",
           "#ab63fa",
           "#FFA15A",
           "#19d3f3",
           "#FF6692",
           "#B6E880",
           "#FF97FF",
           "#FECB52"
          ],
          "font": {
           "color": "#2a3f5f"
          },
          "geo": {
           "bgcolor": "white",
           "lakecolor": "white",
           "landcolor": "#E5ECF6",
           "showlakes": true,
           "showland": true,
           "subunitcolor": "white"
          },
          "hoverlabel": {
           "align": "left"
          },
          "hovermode": "closest",
          "mapbox": {
           "style": "light"
          },
          "paper_bgcolor": "white",
          "plot_bgcolor": "#E5ECF6",
          "polar": {
           "angularaxis": {
            "gridcolor": "white",
            "linecolor": "white",
            "ticks": ""
           },
           "bgcolor": "#E5ECF6",
           "radialaxis": {
            "gridcolor": "white",
            "linecolor": "white",
            "ticks": ""
           }
          },
          "scene": {
           "xaxis": {
            "backgroundcolor": "#E5ECF6",
            "gridcolor": "white",
            "gridwidth": 2,
            "linecolor": "white",
            "showbackground": true,
            "ticks": "",
            "zerolinecolor": "white"
           },
           "yaxis": {
            "backgroundcolor": "#E5ECF6",
            "gridcolor": "white",
            "gridwidth": 2,
            "linecolor": "white",
            "showbackground": true,
            "ticks": "",
            "zerolinecolor": "white"
           },
           "zaxis": {
            "backgroundcolor": "#E5ECF6",
            "gridcolor": "white",
            "gridwidth": 2,
            "linecolor": "white",
            "showbackground": true,
            "ticks": "",
            "zerolinecolor": "white"
           }
          },
          "shapedefaults": {
           "line": {
            "color": "#2a3f5f"
           }
          },
          "ternary": {
           "aaxis": {
            "gridcolor": "white",
            "linecolor": "white",
            "ticks": ""
           },
           "baxis": {
            "gridcolor": "white",
            "linecolor": "white",
            "ticks": ""
           },
           "bgcolor": "#E5ECF6",
           "caxis": {
            "gridcolor": "white",
            "linecolor": "white",
            "ticks": ""
           }
          },
          "title": {
           "x": 0.05
          },
          "xaxis": {
           "automargin": true,
           "gridcolor": "white",
           "linecolor": "white",
           "ticks": "",
           "title": {
            "standoff": 15
           },
           "zerolinecolor": "white",
           "zerolinewidth": 2
          },
          "yaxis": {
           "automargin": true,
           "gridcolor": "white",
           "linecolor": "white",
           "ticks": "",
           "title": {
            "standoff": 15
           },
           "zerolinecolor": "white",
           "zerolinewidth": 2
          }
         }
        },
        "title": {
         "text": "Ploegenprogressie VSc 2x: Veld → Halve Finales → Finales → Eindklassering"
        },
        "width": 900
       }
      }
     },
     "metadata": {},
     "output_type": "display_data"
    }
   ],
   "source": [
    "print(\"=== CREATING 4-COLUMN SANKEY DIAGRAM ===\")\n",
    "print(\"Showing complete flow: Veld → Halve Finale Groups → Individual Finales → Final Positions\")\n",
    "fig_four_column = create_four_column_cumulative_sankey(all_race_data)\n",
    "fig_four_column.show()\n"
   ]
  }
 ],
 "metadata": {
  "kernelspec": {
   "display_name": "base",
   "language": "python",
   "name": "python3"
  },
  "language_info": {
   "codemirror_mode": {
    "name": "ipython",
    "version": 3
   },
   "file_extension": ".py",
   "mimetype": "text/x-python",
   "name": "python",
   "nbconvert_exporter": "python",
   "pygments_lexer": "ipython3",
   "version": "3.12.11"
  }
 },
 "nbformat": 4,
 "nbformat_minor": 5
}
